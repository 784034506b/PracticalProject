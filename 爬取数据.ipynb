{
 "cells": [
  {
   "cell_type": "code",
   "execution_count": 1,
   "metadata": {},
   "outputs": [],
   "source": [
    "from selenium import webdriver\n",
    "from selenium.webdriver.support.ui import WebDriverWait\n",
    "from selenium.webdriver.common.by import By\n",
    "from selenium.webdriver.support import expected_conditions as EC\n",
    "import time\n",
    "import json"
   ]
  },
  {
   "cell_type": "code",
   "execution_count": 2,
   "metadata": {},
   "outputs": [],
   "source": [
    "driver = webdriver.Chrome(executable_path=r'D:\\Anaconda\\chromedriver.exe')\n",
    "driver.get('https://www.jd.com/')"
   ]
  },
  {
   "cell_type": "code",
   "execution_count": null,
   "metadata": {},
   "outputs": [],
   "source": []
  },
  {
   "cell_type": "code",
   "execution_count": 18,
   "metadata": {},
   "outputs": [],
   "source": [
    "# 输入商品名字\n",
    "driver.find_element_by_xpath('//*[@id=\"key\"]').send_keys(\"编程书籍\")\n"
   ]
  },
  {
   "cell_type": "code",
   "execution_count": 19,
   "metadata": {},
   "outputs": [],
   "source": [
    "# 点击搜索\n",
    "driver.find_element_by_xpath('//*[@class=\"form\"]/button').click()"
   ]
  },
  {
   "cell_type": "code",
   "execution_count": 20,
   "metadata": {},
   "outputs": [],
   "source": [
    "driver.find_element_by_xpath('/html/body/div[5]/div[2]/div[2]/div[1]/div/div[1]/div[1]/div[1]/a[2]').click()"
   ]
  },
  {
   "cell_type": "code",
   "execution_count": 21,
   "metadata": {},
   "outputs": [],
   "source": [
    "import pymysql\n"
   ]
  },
  {
   "cell_type": "code",
   "execution_count": 22,
   "metadata": {},
   "outputs": [],
   "source": [
    "#连接数据库\n",
    "db = pymysql.connect(\n",
    "        host=\"localhost\",\n",
    "        user=\"root\",\n",
    "        password=\"123456\",\n",
    "        database = \"book\",\n",
    "        charset=\"utf8\")\n",
    "cursor = db.cursor()"
   ]
  },
  {
   "cell_type": "code",
   "execution_count": 23,
   "metadata": {},
   "outputs": [
    {
     "name": "stdout",
     "output_type": "stream",
     "text": [
      "ok\n"
     ]
    }
   ],
   "source": [
    "db = pymysql.connect(\n",
    "        host=\"localhost\",\n",
    "        user=\"root\",\n",
    "        password=\"123456\",\n",
    "        database = \"book\",\n",
    "        charset=\"utf8\")\n",
    "cursor = db.cursor()\n",
    "sql='CREATE TABLE IF NOT EXISTS 京东(Rank VARCHAR(255) NOT NULL, Title VARCHAR(255) NOT NULL, Price VARCHAR(255) NOT NULL,Press VARCHAR(255) NOT NULL)'\n",
    "cursor.execute(sql)   \n",
    "print('ok')\n"
   ]
  },
  {
   "cell_type": "code",
   "execution_count": 28,
   "metadata": {},
   "outputs": [],
   "source": [
    "def connet(data):  #将数据保存到数据库\n",
    "    db = pymysql.connect(host='localhost', user='root', password='123456', port=3306, database = \"book\")\n",
    "    cursor = db.cursor()\n",
    "    table = '京东'\n",
    "    keys = ', '.join(data.keys())\n",
    "    values = ', '.join(['%s'] * len(data))    \n",
    "    sql = 'INSERT INTO {table}({keys}) VALUES ({values})'.format(table=table, keys=keys, values=values)\n",
    "    try:\n",
    "        cursor.execute(sql, tuple(data.values()))\n",
    "        db.commit()\n",
    "    except:\n",
    "        db.rollback()\n"
   ]
  },
  {
   "cell_type": "code",
   "execution_count": 29,
   "metadata": {},
   "outputs": [],
   "source": [
    "lis = driver.find_elements_by_xpath('//*[@class=\"gl-warp clearfix\"]/li[@class=\"gl-item\"]')\n",
    "for li in lis:\n",
    "    result={}\n",
    "    int i = 0\n",
    "    result[\"Rank\"]= i++\n",
    "    result['Title'] = li.find_element_by_xpath('.//div[@class=\"p-name\"]/a/em').text + li.find_element_by_xpath('.//div[@class=\"p-name\"]/a').get_attribute('title')\n",
    "    result['Price'] = li.find_element_by_xpath('.//div[@class=\"p-price\"]/strong/i').text + '元'\n",
    "    result['Press'] = li.find_element_by_xpath('.//div[@class=\"p-shopnum\"]/*').text\n",
    "    connet(result)"
   ]
  },
  {
   "cell_type": "code",
   "execution_count": null,
   "metadata": {},
   "outputs": [],
   "source": []
  }
 ],
 "metadata": {
  "kernelspec": {
   "display_name": "Python 3",
   "language": "python",
   "name": "python3"
  },
  "language_info": {
   "codemirror_mode": {
    "name": "ipython",
    "version": 3
   },
   "file_extension": ".py",
   "mimetype": "text/x-python",
   "name": "python",
   "nbconvert_exporter": "python",
   "pygments_lexer": "ipython3",
   "version": "3.8.5"
  }
 },
 "nbformat": 4,
 "nbformat_minor": 4
}
